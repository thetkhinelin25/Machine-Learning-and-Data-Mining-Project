{
 "cells": [
  {
   "cell_type": "markdown",
   "id": "04c7fcd9",
   "metadata": {},
   "source": [
    "# GBM, RF, KNN Models "
   ]
  },
  {
   "cell_type": "markdown",
   "id": "1ebb8ced",
   "metadata": {},
   "source": [
    "This notebook develops and evaluates three machine learning models—**Gradient Boosting Machine (GBM)**, **Random Forest (RF)**, and **K-Nearest Neighbors (KNN)**—using the preprocessed `Updated_Metadata_2.csv` dataset.\n",
    "\n",
    "### Key Steps:\n",
    "\n",
    "1. **Data Preparation**\n",
    "   - Loads training and testing data.\n",
    "   - Encodes the `activity` target using label encoding.\n",
    "   - Standardizes features using `StandardScaler`.\n",
    "\n",
    "2. **Model Training and Hyperparameter Tuning**\n",
    "   - Uses `GridSearchCV` with 5-fold cross-validation to find the best hyperparameters for each model.\n",
    "   - Scoring is based on **balanced accuracy** to account for class imbalance.\n",
    "\n",
    "3. **Evaluation**\n",
    "   - Each model is evaluated on the test set using:\n",
    "     - **Balanced accuracy**\n",
    "     - **Classification report**\n",
    "     - **Test accuracy scores**\n"
   ]
  },
  {
   "cell_type": "markdown",
   "id": "e3e74084",
   "metadata": {},
   "source": [
    "## Import Packages"
   ]
  },
  {
   "cell_type": "code",
   "execution_count": 1,
   "id": "8991a146",
   "metadata": {},
   "outputs": [],
   "source": [
    "import pandas as pd\n",
    "import numpy as np\n",
    "from sklearn.model_selection import train_test_split, GridSearchCV\n",
    "from sklearn.preprocessing import StandardScaler, LabelEncoder\n",
    "from sklearn.metrics import accuracy_score, classification_report, balanced_accuracy_score, average_precision_score\n"
   ]
  },
  {
   "cell_type": "markdown",
   "id": "bb7ddf74",
   "metadata": {},
   "source": [
    "## Data Preprocessing"
   ]
  },
  {
   "cell_type": "code",
   "execution_count": 2,
   "id": "01809c14",
   "metadata": {},
   "outputs": [],
   "source": [
    "# Load dataset\n",
    "training_df = pd.read_csv(\"Updated_Metadata_2.csv\")\n",
    "testing_df = pd.read_csv(\"Updated_Metadata_Test_2.csv\")\n",
    "\n",
    "# Encode the target variable\n",
    "target_column = \"activity\"\n",
    "label_encoder = LabelEncoder()\n",
    "training_df[target_column] = label_encoder.fit_transform(training_df[target_column])\n",
    "testing_df[target_column] = label_encoder.fit_transform(testing_df[target_column])\n",
    "\n",
    "# Separate features and target\n",
    "X_train = training_df.drop(columns=[\"user_snippet\", target_column])  # Exclude non-numeric and target columns\n",
    "y_train = training_df[target_column]\n",
    "\n",
    "X_test = testing_df.drop(columns=[\"user_snippet\", target_column])  # Exclude non-numeric and target columns\n",
    "y_test = testing_df[target_column]\n",
    "\n",
    "# Standardize features\n",
    "scaler = StandardScaler()\n",
    "X_train = scaler.fit_transform(X_train)\n",
    "X_test = scaler.transform(X_test)"
   ]
  },
  {
   "cell_type": "markdown",
   "id": "4d44c72b",
   "metadata": {},
   "source": [
    "## Gradient Boosting Machine (GBM)"
   ]
  },
  {
   "cell_type": "code",
   "execution_count": 3,
   "id": "2e2583dc",
   "metadata": {},
   "outputs": [],
   "source": [
    "from sklearn.ensemble import GradientBoostingClassifier\n",
    "\n",
    "gbm = GradientBoostingClassifier()\n",
    "param_grid_gbm = {\n",
    "    'n_estimators': [100, 200],  # Number of boosting stages\n",
    "    'learning_rate': [0.01, 0.1, 0.2],  # Step size shrinkage\n",
    "    'max_depth': [5, 7],  # Tree depth\n",
    "    'min_samples_split': [5, 10],  # Minimum samples required to split\n",
    "    'min_samples_leaf': [2, 4],  # Minimum samples in leaf node\n",
    "    'max_features': ['log2']  # Features considered per split\n",
    "}\n",
    "\n",
    "grid_search_gbm = GridSearchCV(gbm, param_grid_gbm, cv=5, scoring='balanced_accuracy', n_jobs=-1)\n",
    "grid_search_gbm.fit(X_train, y_train)\n",
    "\n",
    "best_gbm = grid_search_gbm.best_estimator_"
   ]
  },
  {
   "cell_type": "code",
   "execution_count": 4,
   "id": "03299cce",
   "metadata": {},
   "outputs": [
    {
     "name": "stdout",
     "output_type": "stream",
     "text": [
      "Best Hyperparameters for GBM: {'learning_rate': 0.2, 'max_depth': 5, 'max_features': 'log2', 'min_samples_leaf': 4, 'min_samples_split': 5, 'n_estimators': 100}\n",
      "GBM Test Balanced Accuracy: 0.7832709638343851\n",
      "Classification Report:\n",
      "               precision    recall  f1-score   support\n",
      "\n",
      "  Downstairs       0.62      0.52      0.57       174\n",
      "     Jogging       0.95      0.98      0.96       689\n",
      "     Sitting       0.65      1.00      0.79        22\n",
      "    Standing       1.00      0.72      0.84        43\n",
      "    Upstairs       0.78      0.53      0.63       238\n",
      "     Walking       0.86      0.95      0.90       768\n",
      "\n",
      "    accuracy                           0.86      1934\n",
      "   macro avg       0.81      0.78      0.78      1934\n",
      "weighted avg       0.86      0.86      0.86      1934\n",
      "\n"
     ]
    }
   ],
   "source": [
    "y_test_pred_gbm = best_gbm.predict(X_test)\n",
    "classification_rep_gbm = classification_report(y_test, y_test_pred_gbm, target_names=label_encoder.classes_)\n",
    "balanced_accuracy_gbm = balanced_accuracy_score(y_test, y_test_pred_gbm)\n",
    "\n",
    "print(\"Best Hyperparameters for GBM:\", grid_search_gbm.best_params_)\n",
    "print(\"GBM Test Balanced Accuracy:\", balanced_accuracy_gbm)\n",
    "print(\"Classification Report:\\n\", classification_rep_gbm)"
   ]
  },
  {
   "cell_type": "code",
   "execution_count": null,
   "id": "d4ad1c0e",
   "metadata": {},
   "outputs": [],
   "source": []
  },
  {
   "cell_type": "markdown",
   "id": "4edb779c",
   "metadata": {},
   "source": [
    "## Random Forest (RF)"
   ]
  },
  {
   "cell_type": "code",
   "execution_count": 5,
   "id": "e530cbd3",
   "metadata": {},
   "outputs": [],
   "source": [
    "from sklearn.ensemble import RandomForestClassifier\n",
    "\n",
    "rf = RandomForestClassifier()\n",
    "param_grid_rf = {\n",
    "    'n_estimators': [100, 200],  # Number of trees\n",
    "    'max_depth': [10, 20],  # Maximum depth of trees\n",
    "    'min_samples_split': [5, 10],  # Minimum samples required to split\n",
    "    'min_samples_leaf': [2, 4],  # Minimum samples in leaf node\n",
    "    'max_features': ['log2'],  # Features considered per split\n",
    "    'bootstrap': [True]  # Bootstrap sampling\n",
    "}\n",
    "\n",
    "grid_search_rf = GridSearchCV(rf, param_grid_rf, cv=5, scoring='balanced_accuracy', n_jobs=-1)\n",
    "grid_search_rf.fit(X_train, y_train)\n",
    "\n",
    "best_rf = grid_search_rf.best_estimator_"
   ]
  },
  {
   "cell_type": "code",
   "execution_count": 6,
   "id": "b91c01b8",
   "metadata": {},
   "outputs": [
    {
     "name": "stdout",
     "output_type": "stream",
     "text": [
      "Best Hyperparameters for RF: {'bootstrap': True, 'max_depth': 20, 'max_features': 'log2', 'min_samples_leaf': 2, 'min_samples_split': 10, 'n_estimators': 100}\n",
      "RF Test Balanced Accuracy: 0.7425660351679381\n",
      "Classification Report:\n",
      "               precision    recall  f1-score   support\n",
      "\n",
      "  Downstairs       0.51      0.34      0.41       174\n",
      "     Jogging       0.95      0.98      0.97       689\n",
      "     Sitting       0.61      1.00      0.76        22\n",
      "    Standing       1.00      0.67      0.81        43\n",
      "    Upstairs       0.77      0.51      0.61       238\n",
      "     Walking       0.82      0.95      0.88       768\n",
      "\n",
      "    accuracy                           0.85      1934\n",
      "   macro avg       0.78      0.74      0.74      1934\n",
      "weighted avg       0.84      0.85      0.83      1934\n",
      "\n"
     ]
    }
   ],
   "source": [
    "y_test_pred_rf = best_rf.predict(X_test)\n",
    "classification_rep_rf = classification_report(y_test, y_test_pred_rf, target_names=label_encoder.classes_)\n",
    "balanced_accuracy_rf = balanced_accuracy_score(y_test, y_test_pred_rf)\n",
    "\n",
    "print(\"Best Hyperparameters for RF:\", grid_search_rf.best_params_)\n",
    "print(\"RF Test Balanced Accuracy:\", balanced_accuracy_rf)\n",
    "print(\"Classification Report:\\n\", classification_rep_rf)"
   ]
  },
  {
   "cell_type": "markdown",
   "id": "c6d05c7d",
   "metadata": {},
   "source": [
    "## K Nearest Neighbors (KNN)"
   ]
  },
  {
   "cell_type": "code",
   "execution_count": 7,
   "id": "1d235e17",
   "metadata": {},
   "outputs": [],
   "source": [
    "from sklearn.neighbors import KNeighborsClassifier\n",
    "\n",
    "# K-Nearest Neighbors with hyperparameter tuning\n",
    "knn = KNeighborsClassifier()\n",
    "param_grid_knn = {\n",
    "    'n_neighbors': [3, 5, 7, 9],  # Number of neighbors\n",
    "    'weights': ['uniform', 'distance'],  # Weighting method\n",
    "    'metric': ['euclidean', 'manhattan', 'minkowski']  # Distance metric\n",
    "}\n",
    "\n",
    "# GridSearchCV for hyperparameter tuning\n",
    "grid_search_knn = GridSearchCV(knn, param_grid_knn, cv=5, scoring='balanced_accuracy', n_jobs=-1)\n",
    "grid_search_knn.fit(X_train, y_train)\n",
    "\n",
    "# Best KNN model\n",
    "best_knn = grid_search_knn.best_estimator_"
   ]
  },
  {
   "cell_type": "code",
   "execution_count": 8,
   "id": "440b2ba9",
   "metadata": {},
   "outputs": [
    {
     "name": "stdout",
     "output_type": "stream",
     "text": [
      "Best Hyperparameters for KNN: {'metric': 'euclidean', 'n_neighbors': 3, 'weights': 'uniform'}\n",
      "KNN Test Balanced Accuracy: 0.7544953568272602\n",
      "Classification Report:\n",
      "               precision    recall  f1-score   support\n",
      "\n",
      "  Downstairs       0.43      0.53      0.48       174\n",
      "     Jogging       0.95      0.98      0.96       689\n",
      "     Sitting       0.73      1.00      0.85        22\n",
      "    Standing       1.00      0.72      0.84        43\n",
      "    Upstairs       0.56      0.45      0.50       238\n",
      "     Walking       0.86      0.84      0.85       768\n",
      "\n",
      "    accuracy                           0.81      1934\n",
      "   macro avg       0.76      0.75      0.75      1934\n",
      "weighted avg       0.82      0.81      0.81      1934\n",
      "\n"
     ]
    },
    {
     "name": "stderr",
     "output_type": "stream",
     "text": [
      "/opt/anaconda3/envs/tensorflow/lib/python3.9/site-packages/threadpoolctl.py:1214: RuntimeWarning: \n",
      "Found Intel OpenMP ('libiomp') and LLVM OpenMP ('libomp') loaded at\n",
      "the same time. Both libraries are known to be incompatible and this\n",
      "can cause random crashes or deadlocks on Linux when loaded in the\n",
      "same Python program.\n",
      "Using threadpoolctl may cause crashes or deadlocks. For more\n",
      "information and possible workarounds, please see\n",
      "    https://github.com/joblib/threadpoolctl/blob/master/multiple_openmp.md\n",
      "\n",
      "  warnings.warn(msg, RuntimeWarning)\n"
     ]
    }
   ],
   "source": [
    "# Model evaluation on test data\n",
    "y_test_pred_knn = best_knn.predict(X_test)\n",
    "classification_rep_knn = classification_report(y_test, y_test_pred_knn, target_names=label_encoder.classes_)\n",
    "balanced_accuracy_knn = balanced_accuracy_score(y_test, y_test_pred_knn)\n",
    "\n",
    "print(\"Best Hyperparameters for KNN:\", grid_search_knn.best_params_)\n",
    "print(\"KNN Test Balanced Accuracy:\", balanced_accuracy_knn)\n",
    "print(\"Classification Report:\\n\", classification_rep_knn)"
   ]
  },
  {
   "cell_type": "markdown",
   "id": "ea077292",
   "metadata": {},
   "source": [
    "## Save the Models"
   ]
  },
  {
   "cell_type": "code",
   "execution_count": 9,
   "id": "a9dcc782",
   "metadata": {},
   "outputs": [
    {
     "name": "stdout",
     "output_type": "stream",
     "text": [
      "Saved Gradient Boosting Machine as gradient_boosting_machine.joblib\n",
      "Saved Random Forest as random_forest.joblib\n",
      "Saved K-Nearest Neighbors as k-nearest_neighbors.joblib\n"
     ]
    }
   ],
   "source": [
    "import joblib\n",
    "\n",
    "# Dictionary of trained models\n",
    "trained_models = {\n",
    "    \"Gradient Boosting Machine\": best_gbm,\n",
    "    \"Random Forest\": best_rf,\n",
    "    \"K-Nearest Neighbors\": best_knn\n",
    "}\n",
    "\n",
    "# Save each model\n",
    "for model_name, model in trained_models.items():\n",
    "    file_name = f\"{model_name.replace(' ', '_').lower()}.joblib\"\n",
    "    joblib.dump(model, file_name)\n",
    "    print(f\"Saved {model_name} as {file_name}\")"
   ]
  },
  {
   "cell_type": "code",
   "execution_count": 5,
   "id": "06097b8f",
   "metadata": {},
   "outputs": [
    {
     "data": {
      "text/plain": [
       "['scaler.joblib']"
      ]
     },
     "execution_count": 5,
     "metadata": {},
     "output_type": "execute_result"
    }
   ],
   "source": [
    "import joblib\n",
    "joblib.dump(scaler, \"scaler.joblib\")"
   ]
  },
  {
   "cell_type": "code",
   "execution_count": 6,
   "id": "4f27e334",
   "metadata": {},
   "outputs": [
    {
     "data": {
      "text/plain": [
       "['label_encoder.joblib']"
      ]
     },
     "execution_count": 6,
     "metadata": {},
     "output_type": "execute_result"
    }
   ],
   "source": [
    "joblib.dump(label_encoder, \"label_encoder.joblib\")"
   ]
  },
  {
   "cell_type": "markdown",
   "id": "704de38a",
   "metadata": {},
   "source": [
    "## Predict the output for Kaggle dataset"
   ]
  },
  {
   "cell_type": "code",
   "execution_count": 10,
   "id": "17c311b0",
   "metadata": {},
   "outputs": [],
   "source": [
    "# Load dataset\n",
    "testing_kaggle_df = pd.read_csv(\"Updated_Metadata_Kaggle_2.csv\")\n",
    "X_test_ID = testing_kaggle_df[\"user_snippet\"]\n",
    "X_test_kaggle = testing_kaggle_df.drop(columns=[\"user_snippet\"])  # Exclude non-numeric and target columns\n",
    "\n",
    "# Standardize features\n",
    "X_test_kaggle_scaled = scaler.transform(X_test_kaggle)"
   ]
  },
  {
   "cell_type": "code",
   "execution_count": 11,
   "id": "c7f9c6b1",
   "metadata": {},
   "outputs": [],
   "source": [
    "# For GBM\n",
    "gbm = joblib.load(\"gradient_boosting_machine.joblib\")\n",
    "y_pred_probs_gbm = gbm.predict(X_test_kaggle_scaled)\n",
    "y_pred_original_gbm = label_encoder.inverse_transform(y_pred_probs_gbm)\n",
    "prediction_gbm = pd.DataFrame({\"user_snippet\": X_test_ID, \"predicted\" : y_pred_original_gbm})\n",
    "prediction_gbm.to_csv(\"output_gbm.csv\", index=False)\n",
    "\n",
    "# For RF\n",
    "rf = joblib.load(\"random_forest.joblib\")\n",
    "y_pred_probs_rf = rf.predict(X_test_kaggle_scaled)\n",
    "y_pred_original_rf = label_encoder.inverse_transform(y_pred_probs_rf)\n",
    "prediction_rf = pd.DataFrame({\"user_snippet\": X_test_ID, \"predicted\" : y_pred_original_rf})\n",
    "prediction_rf.to_csv(\"output_rf.csv\", index=False)\n",
    "\n",
    "# For KNN\n",
    "knn = joblib.load(\"k-nearest_neighbors.joblib\")\n",
    "y_pred_probs_knn = knn.predict(X_test_kaggle_scaled)\n",
    "y_pred_original_knn = label_encoder.inverse_transform(y_pred_probs_knn)\n",
    "prediction_knn = pd.DataFrame({\"user_snippet\": X_test_ID, \"predicted\" : y_pred_original_knn})\n",
    "prediction_knn.to_csv(\"output_knn.csv\", index=False)"
   ]
  },
  {
   "cell_type": "code",
   "execution_count": null,
   "id": "2da4c813",
   "metadata": {},
   "outputs": [],
   "source": []
  },
  {
   "cell_type": "code",
   "execution_count": null,
   "id": "4c8384b5",
   "metadata": {},
   "outputs": [],
   "source": []
  },
  {
   "cell_type": "code",
   "execution_count": null,
   "id": "bb8ce7ca",
   "metadata": {},
   "outputs": [],
   "source": []
  },
  {
   "cell_type": "code",
   "execution_count": null,
   "id": "26b6cee2",
   "metadata": {},
   "outputs": [],
   "source": []
  },
  {
   "cell_type": "code",
   "execution_count": null,
   "id": "e1eefd3e",
   "metadata": {},
   "outputs": [],
   "source": []
  }
 ],
 "metadata": {
  "kernelspec": {
   "display_name": "Python 3.9 (tensorflow)",
   "language": "python",
   "name": "tensorflow"
  },
  "language_info": {
   "codemirror_mode": {
    "name": "ipython",
    "version": 3
   },
   "file_extension": ".py",
   "mimetype": "text/x-python",
   "name": "python",
   "nbconvert_exporter": "python",
   "pygments_lexer": "ipython3",
   "version": "3.9.18"
  }
 },
 "nbformat": 4,
 "nbformat_minor": 5
}
